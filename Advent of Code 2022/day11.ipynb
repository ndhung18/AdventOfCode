{
 "cells": [
  {
   "cell_type": "markdown",
   "metadata": {},
   "source": [
    "### PART 1"
   ]
  },
  {
   "cell_type": "code",
   "execution_count": 83,
   "metadata": {},
   "outputs": [
    {
     "name": "stdout",
     "output_type": "stream",
     "text": [
      "Monkey, inspections: [(3, 238), (0, 232), (7, 228), (5, 210), (6, 208), (2, 171), (1, 64), (4, 41)]\n",
      "Monkey business: 55216\n"
     ]
    }
   ],
   "source": [
    "import re\n",
    "\n",
    "with open('input/day11.txt', 'r') as f:\n",
    "    data = f.read()\n",
    "monkey_data = data.split('\\n\\n')\n",
    "\n",
    "monkeys = {}\n",
    "for monkey in monkey_data:\n",
    "    lines = monkey.strip().split('\\n')\n",
    "    monkey_id = int(re.findall(r'Monkey (\\d+)', lines[0])[0])\n",
    "    starting_items = list(map(int, re.findall(r'\\d+', lines[1])))\n",
    "    operation = lines[2].split(': ')[1].replace(\"new = \", \"\").strip()\n",
    "    divisible_test = int(re.findall(r'\\d+', lines[3])[0])\n",
    "    true_target = int(re.findall(r'\\d+', lines[4])[0])\n",
    "    false_target = int(re.findall(r'\\d+', lines[5])[0])\n",
    "    \n",
    "    monkeys[monkey_id] = {\n",
    "        'items': starting_items,\n",
    "        'operation': operation,\n",
    "        'divisible_test': divisible_test,\n",
    "        'true_target': true_target,\n",
    "        'false_target': false_target,\n",
    "        'inspections': 0\n",
    "    }\n",
    "\n",
    "def perform_operation(operation, old_value):\n",
    "    new_value = eval(operation.replace(\"old\", str(old_value)))\n",
    "    return new_value // 3\n",
    "\n",
    "def simulate(monkeys, rounds):\n",
    "    for _ in range(rounds):\n",
    "        for _, monkey in monkeys.items():\n",
    "            for item in monkey['items']:\n",
    "                new_value = perform_operation(monkey['operation'], item)\n",
    "                monkey['inspections'] += 1\n",
    "                if new_value % monkey['divisible_test'] == 0:\n",
    "                    target_monkey = monkey['true_target']\n",
    "                else:\n",
    "                    target_monkey = monkey['false_target']\n",
    "                monkeys[target_monkey]['items'].append(new_value)\n",
    "            monkey['items'] = []\n",
    "\n",
    "simulate(monkeys, 20)\n",
    "inspections = sorted([(monkey_id, monkey['inspections']) for monkey_id, monkey in monkeys.items()],\n",
    "                         key=lambda x: x[1], reverse=True)\n",
    "\n",
    "print(\"Monkey, inspections:\", inspections)\n",
    "print(\"Monkey business:\",inspections[0][1]*inspections[1][1])"
   ]
  },
  {
   "cell_type": "markdown",
   "metadata": {},
   "source": [
    "### PART 2"
   ]
  },
  {
   "cell_type": "code",
   "execution_count": 84,
   "metadata": {},
   "outputs": [
    {
     "name": "stdout",
     "output_type": "stream",
     "text": [
      "Monkey, inspections: [(7, 117395), (0, 109450), (5, 107947), (3, 107378), (1, 107353), (6, 94377), (4, 27277), (2, 15949)]\n",
      "Monkey business: 12848882750\n"
     ]
    }
   ],
   "source": [
    "import re\n",
    "from math import gcd\n",
    "from functools import reduce\n",
    "\n",
    "with open('input/day11.txt', 'r') as f:\n",
    "    data = f.read()\n",
    "monkey_data = data.split('\\n\\n')\n",
    "\n",
    "monkeys = {}\n",
    "for monkey in monkey_data:\n",
    "    lines = monkey.strip().split('\\n')\n",
    "    monkey_id = int(re.findall(r'Monkey (\\d+)', lines[0])[0])\n",
    "    starting_items = list(map(int, re.findall(r'\\d+', lines[1])))\n",
    "    operation = lines[2].split(': ')[1].replace(\"new = \", \"\").strip()\n",
    "    divisible_test = int(re.findall(r'\\d+', lines[3])[0])\n",
    "    true_target = int(re.findall(r'\\d+', lines[4])[0])\n",
    "    false_target = int(re.findall(r'\\d+', lines[5])[0])\n",
    "    \n",
    "    monkeys[monkey_id] = {\n",
    "        'items': starting_items,\n",
    "        'operation': operation,\n",
    "        'divisible_test': divisible_test,\n",
    "        'true_target': true_target,\n",
    "        'false_target': false_target,\n",
    "        'inspections': 0\n",
    "    }\n",
    "\n",
    "def lcm_multiple(numbers):\n",
    "    return reduce(lambda x, y: x*y //gcd(x,y), numbers)\n",
    "\n",
    "def perform_operation(operation, old_value, lcm_value):\n",
    "    new_value = eval(operation.replace(\"old\", str(old_value)))\n",
    "    return new_value % lcm_value \n",
    "\n",
    "def inspect_items(monkeys, lcm_value):\n",
    "    for _, monkey in monkeys.items():\n",
    "        new_items = []\n",
    "        for item in monkey['items']:\n",
    "            new_value = perform_operation(monkey['operation'], item, lcm_value)\n",
    "            monkey['inspections'] += 1\n",
    "            if new_value % monkey['divisible_test'] == 0:\n",
    "                target_monkey = monkey['true_target']\n",
    "            else:\n",
    "                target_monkey = monkey['false_target']\n",
    "            monkeys[target_monkey]['items'].append(new_value)\n",
    "        monkey['items'] = new_items\n",
    "\n",
    "def simulate(monkeys, rounds):    \n",
    "    lcm_value = lcm_multiple([monkey['divisible_test'] for monkey in monkeys.values()])\n",
    "    for _ in range(rounds):\n",
    "        inspect_items(monkeys, lcm_value)\n",
    "\n",
    "simulate(monkeys, rounds=10000)\n",
    "inspections = sorted([(monkey_id, monkey['inspections']) for monkey_id, monkey in monkeys.items()],\n",
    "                         key=lambda x: x[1], reverse=True)\n",
    "\n",
    "print(\"Monkey, inspections:\", inspections)\n",
    "print(\"Monkey business:\",inspections[0][1]*inspections[1][1])\n"
   ]
  }
 ],
 "metadata": {
  "kernelspec": {
   "display_name": "Python 3",
   "language": "python",
   "name": "python3"
  },
  "language_info": {
   "codemirror_mode": {
    "name": "ipython",
    "version": 3
   },
   "file_extension": ".py",
   "mimetype": "text/x-python",
   "name": "python",
   "nbconvert_exporter": "python",
   "pygments_lexer": "ipython3",
   "version": "3.13.0"
  }
 },
 "nbformat": 4,
 "nbformat_minor": 2
}
