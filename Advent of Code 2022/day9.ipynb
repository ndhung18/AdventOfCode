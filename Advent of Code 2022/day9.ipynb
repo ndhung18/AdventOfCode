{
 "cells": [
  {
   "cell_type": "code",
   "execution_count": 15,
   "id": "91bffebc-e380-4052-84da-ee73dc3e444b",
   "metadata": {},
   "outputs": [],
   "source": [
    "n = 10000\n",
    "location = [[0 for _ in range(n)] for _ in range(n)]\n",
    "\n",
    "xH, yH = n // 2, n // 2\n",
    "xT, yT = n // 2, n // 2\n",
    "\n",
    "tail_positions = set()\n",
    "tail_positions.add((xT, yT))"
   ]
  },
  {
   "cell_type": "code",
   "execution_count": 16,
   "id": "dd91133d-9b15-4ef4-ac88-0ee2ee5cbefd",
   "metadata": {},
   "outputs": [],
   "source": [
    "import math\n",
    "\n",
    "def moveTail():\n",
    "    global xH, yH, xT, yT\n",
    "    dx = xH - xT\n",
    "    dy = yH - yT\n",
    "    distance = math.sqrt(dx**2 + dy**2)\n",
    "\n",
    "    if distance > math.sqrt(2):\n",
    "        if dx != 0 and dy != 0:\n",
    "            xT += 1 if dx > 0 else -1\n",
    "            yT += 1 if dy > 0 else -1\n",
    "        elif abs(dx) > abs(dy):\n",
    "            xT += 1 if dx > 0 else -1\n",
    "        elif abs(dy) > abs(dx):\n",
    "            yT += 1 if dy > 0 else -1\n",
    "\n",
    "        tail_positions.add((xT, yT))\n",
    "        \n",
    "def moveHead(direction, steps):\n",
    "    global xH, yH\n",
    "    for _ in range(steps):\n",
    "        if direction == 'L':\n",
    "            yH -=1\n",
    "        elif direction == 'R':\n",
    "            yH +=1\n",
    "        elif direction == 'U':\n",
    "            xH -=1\n",
    "        elif direction == 'D':\n",
    "            xH +=1\n",
    "        location[xH][yH] = 1\n",
    "        moveTail()"
   ]
  },
  {
   "cell_type": "code",
   "execution_count": 17,
   "id": "3eb056f9-31f4-408a-9b2e-aa10e983049f",
   "metadata": {},
   "outputs": [],
   "source": [
    "# PART 2\n",
    "\n",
    "knots = [(n // 2, n // 2) for _ in range(10)]\n",
    "tail_positions_part2 = set()\n",
    "tail_positions_part2.add(knots[-1])\n",
    "\n",
    "def moveTail2(i):\n",
    "    global knots\n",
    "    xH, yH = knots[i - 1]\n",
    "    xT, yT = knots[i]\n",
    "    dx = xH - xT\n",
    "    dy = yH - yT\n",
    "    distance = math.sqrt(dx**2 + dy**2)\n",
    "\n",
    "    if distance > math.sqrt(2):\n",
    "        if dx != 0 and dy != 0:\n",
    "            knots[i] = (xT + (1 if dx > 0 else -1), yT + (1 if dy > 0 else -1))\n",
    "        elif abs(dx) > abs(dy):\n",
    "            knots[i] = (xT + (1 if dx > 0 else -1), yT)\n",
    "        elif abs(dy) > abs(dx):\n",
    "            knots[i] = (xT, yT + (1 if dy > 0 else -1))\n",
    "\n",
    "    if i == 9:\n",
    "        tail_positions_part2.add(knots[i])\n",
    "\n",
    "def moveHead2(direction, steps):\n",
    "    global knots\n",
    "    for _ in range(steps):\n",
    "        xH, yH = knots[0]\n",
    "        if direction == 'L':\n",
    "            yH -= 1\n",
    "        elif direction == 'R':\n",
    "            yH += 1\n",
    "        elif direction == 'U':\n",
    "            xH -= 1\n",
    "        elif direction == 'D':\n",
    "            xH += 1\n",
    "        knots[0] = (xH, yH)\n",
    "\n",
    "        for i in range(1, 10):\n",
    "            moveTail2(i)"
   ]
  },
  {
   "cell_type": "code",
   "execution_count": 18,
   "id": "5662b8e9-5cae-4bb7-a9ee-5a336675aa66",
   "metadata": {},
   "outputs": [
    {
     "name": "stdout",
     "output_type": "stream",
     "text": [
      "6018\n",
      "2619\n"
     ]
    }
   ],
   "source": [
    "with open('day9.txt', 'r', encoding='utf-8') as file:\n",
    "    for line in file:\n",
    "        direction, steps = line.split()\n",
    "        steps = int(steps)\n",
    "        moveHead(direction, steps)\n",
    "        moveHead2(direction, steps)\n",
    "\n",
    "print(len(tail_positions))\n",
    "print(len(tail_positions_part2))"
   ]
  }
 ],
 "metadata": {
  "kernelspec": {
   "display_name": "Python 3 (ipykernel)",
   "language": "python",
   "name": "python3"
  },
  "language_info": {
   "codemirror_mode": {
    "name": "ipython",
    "version": 3
   },
   "file_extension": ".py",
   "mimetype": "text/x-python",
   "name": "python",
   "nbconvert_exporter": "python",
   "pygments_lexer": "ipython3",
   "version": "3.13.0"
  }
 },
 "nbformat": 4,
 "nbformat_minor": 5
}
