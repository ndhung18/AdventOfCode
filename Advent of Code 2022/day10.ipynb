{
 "cells": [
  {
   "cell_type": "markdown",
   "id": "ac6bceb7",
   "metadata": {},
   "source": [
    "### Part 1"
   ]
  },
  {
   "cell_type": "code",
   "execution_count": null,
   "id": "4ff75802-4ba5-462f-a812-a23549a12a64",
   "metadata": {},
   "outputs": [
    {
     "name": "stdout",
     "output_type": "stream",
     "text": [
      "15360\n"
     ]
    }
   ],
   "source": [
    "cycle = 0\n",
    "x = 1\n",
    "sum = 0\n",
    "\n",
    "def checkCycle():\n",
    "    global sum\n",
    "    if cycle == 20 or cycle == 60 or cycle == 100 or cycle == 140 or cycle == 180 or cycle == 220:\n",
    "        sum += x * cycle\n",
    "\n",
    "with open('input/day10.txt', 'r', encoding = 'utf-8') as file:\n",
    "    for line in file:\n",
    "        if line.startswith(\"noop\"):\n",
    "            cycle += 1\n",
    "            checkCycle()\n",
    "        else:\n",
    "            _, num = line.split()\n",
    "            num = int(num)\n",
    "            for _ in range (2):\n",
    "                cycle +=1\n",
    "                checkCycle()\n",
    "            x += num\n",
    "\n",
    "print(sum)"
   ]
  },
  {
   "cell_type": "markdown",
   "id": "93e14b68",
   "metadata": {},
   "source": [
    "### Part 2"
   ]
  },
  {
   "cell_type": "code",
   "execution_count": null,
   "id": "ab80b244-2164-41e9-8439-62ca702667e5",
   "metadata": {},
   "outputs": [
    {
     "name": "stdout",
     "output_type": "stream",
     "text": [
      "###..#..#.#....#..#...##..##..####..##..\n",
      "#..#.#..#.#....#..#....#.#..#....#.#..#.\n",
      "#..#.####.#....####....#.#......#..#..#.\n",
      "###..#..#.#....#..#....#.#.##..#...####.\n",
      "#....#..#.#....#..#.#..#.#..#.#....#..#.\n",
      "#....#..#.####.#..#..##...###.####.#..#.\n"
     ]
    }
   ],
   "source": [
    "crt = [ ['.' for _ in range(40)] for _ in range (6)]\n",
    "for j in range(3):\n",
    "    crt[0][j] = '#'\n",
    "\n",
    "draw = \"\"\n",
    "x = 1\n",
    "cycle = 0\n",
    "row = 0\n",
    "mark = x\n",
    "\n",
    "def updateX(num):\n",
    "    global x\n",
    "    if x == mark or x == mark + 1:\n",
    "        for j in range(mark + 1, x + 2):\n",
    "            if j == 40:\n",
    "                break\n",
    "            elif j < 0:\n",
    "                continue\n",
    "            crt[row][j] = '.'\n",
    "    if x > mark + 1:\n",
    "        for j in range(x - 1, x + 2):\n",
    "            if j == 40:\n",
    "                break\n",
    "            elif j < 0:\n",
    "                continue\n",
    "            crt[row][j] = '.'\n",
    "    x += num\n",
    "    if x == mark or x == mark + 1:\n",
    "        for j in range(mark + 1, x + 2):\n",
    "            if j == 40:\n",
    "                break\n",
    "            elif j < 0:\n",
    "                continue\n",
    "            crt[row][j] = '#'\n",
    "    if x > mark + 1:\n",
    "        for j in range(x - 1, x + 2):\n",
    "            if j == 40:\n",
    "                break\n",
    "            elif j < 0:\n",
    "                continue\n",
    "            crt[row][j] = '#'\n",
    "\n",
    "def updateCRT(column, row):\n",
    "    global x, mark\n",
    "    if crt[row][column - 1] == '#':\n",
    "        crt[row][column - 1] = '#' \n",
    "    else:\n",
    "        crt[row][column - 1] = '.'\n",
    "    mark = column - 1\n",
    "\n",
    "def checkCycle():\n",
    "    global cycle, row, mark\n",
    "    if (cycle - 1) % 40 == 0 and cycle != 1:\n",
    "        cycle = 1\n",
    "        row += 1\n",
    "        mark = 0\n",
    "        for j in range(x - 1, x + 2):\n",
    "            if j == 40:\n",
    "                break\n",
    "            elif j < 0:\n",
    "                continue\n",
    "            crt[row][j] = '#'\n",
    "\n",
    "with open('input/day10', 'r', encoding = 'utf-8') as file:\n",
    "    for line in file:\n",
    "        if line.startswith(\"noop\"):\n",
    "            cycle += 1\n",
    "            checkCycle()\n",
    "            updateCRT(cycle, row)\n",
    "        else:\n",
    "            _, num = line.split()\n",
    "            num = int(num)\n",
    "            for _ in range (2):\n",
    "                cycle +=1\n",
    "                checkCycle()\n",
    "                updateCRT(cycle, row)\n",
    "            updateX(num)\n",
    "\n",
    "for line in crt:\n",
    "    print(\"\".join(line))"
   ]
  },
  {
   "cell_type": "markdown",
   "id": "167fa382",
   "metadata": {},
   "source": [
    "-> PHLHJGZA"
   ]
  }
 ],
 "metadata": {
  "kernelspec": {
   "display_name": "Python 3",
   "language": "python",
   "name": "python3"
  },
  "language_info": {
   "codemirror_mode": {
    "name": "ipython",
    "version": 3
   },
   "file_extension": ".py",
   "mimetype": "text/x-python",
   "name": "python",
   "nbconvert_exporter": "python",
   "pygments_lexer": "ipython3",
   "version": "3.13.0"
  }
 },
 "nbformat": 4,
 "nbformat_minor": 5
}
