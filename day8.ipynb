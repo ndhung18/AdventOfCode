{
 "cells": [
  {
   "cell_type": "code",
   "execution_count": 6,
   "id": "fda47b58-cd40-4f48-80a7-695f16dbb92e",
   "metadata": {},
   "outputs": [],
   "source": [
    "trees = []\n",
    "\n",
    "with open('day8.txt', 'r', encoding='utf-8') as file:\n",
    "    lines = file.readlines()\n",
    "    line_count = len(lines)\n",
    "    for line in lines:\n",
    "        line = line.strip()\n",
    "        a = []\n",
    "        for j in range(len(line)):\n",
    "            a.append(int(line[j]))\n",
    "        trees.append(a)"
   ]
  },
  {
   "cell_type": "code",
   "execution_count": 7,
   "id": "fa6a39eb-04e0-400b-af9b-41cac80a2b56",
   "metadata": {},
   "outputs": [
    {
     "data": {
      "text/plain": [
       "392"
      ]
     },
     "execution_count": 7,
     "metadata": {},
     "output_type": "execute_result"
    }
   ],
   "source": [
    "visible_count = line_count*line_count - (line_count - 2) * (line_count - 2)\n",
    "visible_count "
   ]
  },
  {
   "cell_type": "code",
   "execution_count": 8,
   "id": "a7954cb9-17f4-467c-a461-66eded19bc87",
   "metadata": {},
   "outputs": [
    {
     "data": {
      "text/plain": [
       "1560"
      ]
     },
     "execution_count": 8,
     "metadata": {},
     "output_type": "execute_result"
    }
   ],
   "source": [
    "visible_positions = set()\n",
    "\n",
    "for i in range(1, line_count - 1):\n",
    "    mark = trees[i][0]\n",
    "    for j in range(1, line_count - 1):\n",
    "        if trees[i][j] > mark:\n",
    "            visible_positions.add((i, j))\n",
    "            mark = trees[i][j]\n",
    "\n",
    "for i in range(1, line_count - 1):\n",
    "    mark = trees[i][line_count - 1]\n",
    "    for j in range(line_count - 1, 0, -1):\n",
    "        if trees[i][j] > mark:\n",
    "            visible_positions.add((i, j))\n",
    "            mark = trees[i][j]\n",
    "\n",
    "for j in range(1, line_count - 1):\n",
    "    mark = trees[0][j]\n",
    "    for i in range(1, line_count - 1):\n",
    "        if trees[i][j] > mark:\n",
    "            visible_positions.add((i, j))\n",
    "            mark = trees[i][j]\n",
    "\n",
    "for j in range(1, line_count - 1):\n",
    "    mark = trees[line_count - 1][j]\n",
    "    for i in range(line_count - 1, 0, -1):\n",
    "        if trees[i][j] > mark:\n",
    "            visible_positions.add((i, j))\n",
    "            mark = trees[i][j]\n",
    "\n",
    "visible_count = visible_count + len(visible_positions)\n",
    "visible_count"
   ]
  },
  {
   "cell_type": "code",
   "execution_count": 9,
   "id": "5c8ecec3-97cf-4602-b5ee-d7c9229afc2e",
   "metadata": {},
   "outputs": [],
   "source": [
    "muls = []\n",
    "\n",
    "for i in range(1, line_count - 1):\n",
    "    for j in range(1, line_count - 1):\n",
    "        right, left, top, down = 0, 0, 0, 0\n",
    "        mul = 1\n",
    "        for k in range(j + 1, line_count):\n",
    "            right += 1\n",
    "            if trees[i][j] <= trees[i][k]:\n",
    "                break\n",
    "        \n",
    "        for k in range(j - 1, -1, -1):\n",
    "            left += 1\n",
    "            if trees[i][j] <= trees[i][k]:\n",
    "                break\n",
    "\n",
    "        for k in range(i + 1, line_count):\n",
    "            down += 1\n",
    "            if trees[i][j] <= trees[k][j]:\n",
    "                break\n",
    "\n",
    "        for k in range(i - 1, -1, -1):\n",
    "            top += 1\n",
    "            if trees[i][j] <= trees[k][j]:\n",
    "                break\n",
    "        mul = right * left * down * top\n",
    "        muls.append(mul)"
   ]
  },
  {
   "cell_type": "code",
   "execution_count": 10,
   "id": "9bcb12ae-706d-495d-a600-21818d6fffc8",
   "metadata": {},
   "outputs": [
    {
     "data": {
      "text/plain": [
       "252000"
      ]
     },
     "execution_count": 10,
     "metadata": {},
     "output_type": "execute_result"
    }
   ],
   "source": [
    "max(muls)"
   ]
  }
 ],
 "metadata": {
  "kernelspec": {
   "display_name": "Python 3 (ipykernel)",
   "language": "python",
   "name": "python3"
  },
  "language_info": {
   "codemirror_mode": {
    "name": "ipython",
    "version": 3
   },
   "file_extension": ".py",
   "mimetype": "text/x-python",
   "name": "python",
   "nbconvert_exporter": "python",
   "pygments_lexer": "ipython3",
   "version": "3.13.0"
  }
 },
 "nbformat": 4,
 "nbformat_minor": 5
}
