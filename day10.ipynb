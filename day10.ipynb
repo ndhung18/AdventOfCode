{
 "cells": [
  {
   "cell_type": "code",
   "execution_count": 35,
   "id": "4ff75802-4ba5-462f-a812-a23549a12a64",
   "metadata": {},
   "outputs": [
    {
     "name": "stdout",
     "output_type": "stream",
     "text": [
      "240\n"
     ]
    }
   ],
   "source": [
    "cycle = 0\n",
    "x = 1\n",
    "sum = 0\n",
    "\n",
    "def checkCycle():\n",
    "    global sum\n",
    "    if cycle == 20 or cycle == 60 or cycle == 100 or cycle == 140 or cycle == 180 or cycle == 220:\n",
    "        sum += x * cycle\n",
    "        # print(sum)\n",
    "\n",
    "with open('day102.txt', 'r', encoding = 'utf-8') as file:\n",
    "    for line in file:\n",
    "        if line.startswith(\"noop\"):\n",
    "            cycle += 1\n",
    "            checkCycle()\n",
    "        else:\n",
    "            _, num = line.split()\n",
    "            num = int(num)\n",
    "            for _ in range (2):\n",
    "                cycle +=1\n",
    "                checkCycle()\n",
    "            x += num\n",
    "        # print(x)\n",
    "print(cycle)"
   ]
  },
  {
   "cell_type": "code",
   "execution_count": 36,
   "id": "ab80b244-2164-41e9-8439-62ca702667e5",
   "metadata": {},
   "outputs": [
    {
     "name": "stdout",
     "output_type": "stream",
     "text": [
      "####.###...#########.###.###.###.###.###\n",
      ".####..####..###...###..#####..#########\n",
      ".###.....#####...###.....####....###....\n",
      ".#####.....###.......####.....#####.....\n",
      ".###.###.....#####.......#########...###\n",
      ".###.###.......####.####.....########...\n",
      "----\n",
      "####.###...#########.###.###.###.###.###\n",
      ".####..####..###...###..#####..#########\n",
      ".###.....#####...###.....####....###....\n",
      ".#####.....###.......####.....#####.....\n",
      ".###.###.....#####.......#########...###\n",
      ".###.###.......####.####.....########...\n"
     ]
    }
   ],
   "source": [
    "crt = [ ['.' for _ in range(40)] for _ in range (6)]\n",
    "for j in range(3):\n",
    "    crt[0][j] = '#'\n",
    "\n",
    "draw = \"\"\n",
    "x = 1\n",
    "cycle = 0\n",
    "row = 0\n",
    "mark = x\n",
    "\n",
    "def updateCRT(column, row):\n",
    "    global x, mark\n",
    "    \n",
    "    for j in range(x, x + 3):\n",
    "        if j == 40:\n",
    "            break\n",
    "        elif j < 0:\n",
    "            continue\n",
    "\n",
    "        if x + 1 > column:\n",
    "            crt[row][j] = '#'\n",
    "\n",
    "    if x != mark and mark + 1 > column :\n",
    "        for j in range(mark, mark + 3):\n",
    "            if j == 40:\n",
    "                break\n",
    "            elif j < 0:\n",
    "                continue\n",
    "            crt[row][j] = '.'\n",
    "        mark = x\n",
    "    \n",
    "    if crt[row][column - 1] == '#':\n",
    "        crt[row][column - 1] = '#' \n",
    "        # if mark != x else '.'\n",
    "        # mark = x\n",
    "    else:\n",
    "        crt[row][column - 1] = '.' \n",
    "        # if mark != x else '#'\n",
    "        # mark = x\n",
    "\n",
    "def checkCycle():\n",
    "    global cycle, row\n",
    "    if (cycle - 1) % 40 == 0 and cycle != 1:\n",
    "        cycle = 1\n",
    "        row += 1\n",
    "\n",
    "with open('day102.txt', 'r', encoding = 'utf-8') as file:\n",
    "    for line in file:\n",
    "        if line.startswith(\"noop\"):\n",
    "            cycle += 1\n",
    "            checkCycle()\n",
    "            updateCRT(cycle, row)\n",
    "        else:\n",
    "            _, num = line.split()\n",
    "            num = int(num)\n",
    "            for _ in range (2):\n",
    "                cycle +=1\n",
    "                checkCycle()\n",
    "                updateCRT(cycle, row)\n",
    "            x += num\n",
    "            \n",
    "for i in range(6):\n",
    "    for j in range(40):\n",
    "        draw += crt[i][j]\n",
    "    print(draw)\n",
    "    draw = \"\"\n",
    "\n",
    "print(\"----\")\n",
    "\n",
    "for line in crt:\n",
    "    print(\"\".join(line))"
   ]
  }
 ],
 "metadata": {
  "kernelspec": {
   "display_name": "Python 3 (ipykernel)",
   "language": "python",
   "name": "python3"
  },
  "language_info": {
   "codemirror_mode": {
    "name": "ipython",
    "version": 3
   },
   "file_extension": ".py",
   "mimetype": "text/x-python",
   "name": "python",
   "nbconvert_exporter": "python",
   "pygments_lexer": "ipython3",
   "version": "3.13.0"
  }
 },
 "nbformat": 4,
 "nbformat_minor": 5
}
