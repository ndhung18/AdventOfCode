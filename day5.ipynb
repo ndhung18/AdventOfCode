{
 "cells": [
  {
   "cell_type": "code",
   "execution_count": 1,
   "id": "d6be14ee-b520-4414-aa20-c7244d5d1f78",
   "metadata": {},
   "outputs": [],
   "source": [
    "cargo = []\n",
    "move = []\n",
    "with open('day5.txt', 'r', encoding='utf-8') as file:\n",
    "    for line in file:\n",
    "        if line.lstrip() and line.lstrip()[0].isdigit():\n",
    "            x = len(line.split())\n",
    "        elif line.lstrip() and line.lstrip()[0] == \"[\":\n",
    "            cargo.append(line.rstrip())\n",
    "        elif line.startswith(\"move\"):\n",
    "            move.append(line.rstrip())"
   ]
  },
  {
   "cell_type": "code",
   "execution_count": 8,
   "id": "dbf67a6e-495d-4f14-a58e-54c6f48b80f1",
   "metadata": {},
   "outputs": [],
   "source": [
    "list_of_stacks = [[] for _ in range(x + 1)]\n",
    "\n",
    "for _cargo in cargo:\n",
    "    for index, char in enumerate(_cargo):\n",
    "        if char.isupper():\n",
    "            # print(char,\"belong to stack\", int(((index-1)/4)+1))\n",
    "            list_of_stacks[int(((index-1)/4)+1)].append(char)\n",
    "\n",
    "for stack in list_of_stacks:\n",
    "    stack.reverse()"
   ]
  },
  {
   "cell_type": "code",
   "execution_count": 9,
   "id": "a3107eae-50a8-416a-a6b6-993338f74ab0",
   "metadata": {},
   "outputs": [
    {
     "data": {
      "text/plain": [
       "[[],\n",
       " ['D', 'B', 'J', 'V'],\n",
       " ['P', 'V', 'B', 'W', 'R', 'D', 'F'],\n",
       " ['R', 'G', 'F', 'L', 'D', 'C', 'W', 'Q'],\n",
       " ['W', 'J', 'P', 'M', 'L', 'N', 'D', 'B'],\n",
       " ['H', 'N', 'B', 'P', 'C', 'S', 'Q'],\n",
       " ['R', 'D', 'B', 'S', 'N', 'G'],\n",
       " ['Z', 'B', 'P', 'M', 'Q', 'F', 'S', 'H'],\n",
       " ['W', 'L', 'F'],\n",
       " ['S', 'V', 'F', 'M', 'R']]"
      ]
     },
     "execution_count": 9,
     "metadata": {},
     "output_type": "execute_result"
    }
   ],
   "source": [
    "list_of_stacks"
   ]
  },
  {
   "cell_type": "markdown",
   "id": "eec78889-c7d0-4b09-9993-dba11c01eb50",
   "metadata": {},
   "source": [
    "## First Half"
   ]
  },
  {
   "cell_type": "code",
   "execution_count": 4,
   "id": "0b16140d-8e5a-46d2-8439-06a45fe7ca42",
   "metadata": {},
   "outputs": [],
   "source": [
    "for move_ in move:\n",
    "    sen = move_.split()\n",
    "    for i in range (int(sen[1])):\n",
    "        list_of_stacks[int(sen[5])].append(list_of_stacks[int(sen[3])].pop())"
   ]
  },
  {
   "cell_type": "code",
   "execution_count": 5,
   "id": "8e7c0bc9-83c9-453c-81b7-6080b45e1c1a",
   "metadata": {},
   "outputs": [
    {
     "data": {
      "text/plain": [
       "[[],\n",
       " ['F', 'N', 'B', 'G', 'B'],\n",
       " ['B', 'S', 'G', 'S'],\n",
       " ['V', 'M', 'B', 'D', 'Z', 'W', 'R', 'D'],\n",
       " ['R', 'W', 'M'],\n",
       " ['F', 'P', 'V', 'W', 'Q'],\n",
       " ['H',\n",
       "  'J',\n",
       "  'L',\n",
       "  'R',\n",
       "  'D',\n",
       "  'P',\n",
       "  'F',\n",
       "  'S',\n",
       "  'P',\n",
       "  'J',\n",
       "  'V',\n",
       "  'D',\n",
       "  'N',\n",
       "  'D',\n",
       "  'C',\n",
       "  'F',\n",
       "  'F'],\n",
       " ['N', 'L'],\n",
       " ['S'],\n",
       " ['B', 'C', 'R', 'H', 'W', 'L', 'B', 'Q', 'M', 'Q', 'P']]"
      ]
     },
     "execution_count": 5,
     "metadata": {},
     "output_type": "execute_result"
    }
   ],
   "source": [
    "list_of_stacks"
   ]
  },
  {
   "cell_type": "code",
   "execution_count": 6,
   "id": "f7b949c4-17f9-48d3-bbf9-8ffb1ab3b0ad",
   "metadata": {},
   "outputs": [
    {
     "name": "stdout",
     "output_type": "stream",
     "text": [
      "BSDMQFLSP\n"
     ]
    }
   ],
   "source": [
    "ans = \"\"\n",
    "for stack in list_of_stacks:\n",
    "    if stack != [] :\n",
    "        stack.reverse()\n",
    "        ans = ans + stack[0]\n",
    "print(ans)"
   ]
  },
  {
   "cell_type": "markdown",
   "id": "e945b9c9-2eb5-4d9c-b3fb-6b64c6675178",
   "metadata": {},
   "source": [
    "## Part 2"
   ]
  },
  {
   "cell_type": "code",
   "execution_count": 10,
   "id": "2a84a381-1c32-41c8-9219-925bb9899c9c",
   "metadata": {},
   "outputs": [],
   "source": [
    "for move_ in move:\n",
    "    sen = move_.split()\n",
    "    temp = []\n",
    "    for i in range (int(sen[1])):\n",
    "        temp.append(list_of_stacks[int(sen[3])].pop())\n",
    "    temp.reverse()\n",
    "    list_of_stacks[int(sen[5])].extend(temp)"
   ]
  },
  {
   "cell_type": "code",
   "execution_count": 11,
   "id": "643a9a61-b082-4a8c-b130-214de642bc22",
   "metadata": {},
   "outputs": [
    {
     "data": {
      "text/plain": [
       "[[],\n",
       " ['F', 'D', 'M', 'G', 'P'],\n",
       " ['D', 'V', 'Z', 'G'],\n",
       " ['M', 'R', 'R', 'S', 'V', 'B', 'H', 'S'],\n",
       " ['S', 'H', 'Q'],\n",
       " ['D', 'L', 'C', 'N', 'B'],\n",
       " ['D',\n",
       "  'P',\n",
       "  'J',\n",
       "  'W',\n",
       "  'C',\n",
       "  'B',\n",
       "  'S',\n",
       "  'N',\n",
       "  'F',\n",
       "  'L',\n",
       "  'F',\n",
       "  'W',\n",
       "  'R',\n",
       "  'Q',\n",
       "  'F',\n",
       "  'W',\n",
       "  'F'],\n",
       " ['V', 'L'],\n",
       " ['D'],\n",
       " ['W', 'Q', 'B', 'B', 'P', 'M', 'B', 'J', 'R', 'N', 'P']]"
      ]
     },
     "execution_count": 11,
     "metadata": {},
     "output_type": "execute_result"
    }
   ],
   "source": [
    "list_of_stacks"
   ]
  },
  {
   "cell_type": "code",
   "execution_count": 12,
   "id": "fdd7bef4-f754-482a-921f-ba397a3d1f36",
   "metadata": {},
   "outputs": [
    {
     "name": "stdout",
     "output_type": "stream",
     "text": [
      "PGSQBFLDP\n"
     ]
    }
   ],
   "source": [
    "ans = \"\"\n",
    "for stack in list_of_stacks:\n",
    "    if stack != [] :\n",
    "        stack.reverse()\n",
    "        ans = ans + stack[0]\n",
    "print(ans)"
   ]
  }
 ],
 "metadata": {
  "kernelspec": {
   "display_name": "Python 3 (ipykernel)",
   "language": "python",
   "name": "python3"
  },
  "language_info": {
   "codemirror_mode": {
    "name": "ipython",
    "version": 3
   },
   "file_extension": ".py",
   "mimetype": "text/x-python",
   "name": "python",
   "nbconvert_exporter": "python",
   "pygments_lexer": "ipython3",
   "version": "3.13.0"
  }
 },
 "nbformat": 4,
 "nbformat_minor": 5
}
